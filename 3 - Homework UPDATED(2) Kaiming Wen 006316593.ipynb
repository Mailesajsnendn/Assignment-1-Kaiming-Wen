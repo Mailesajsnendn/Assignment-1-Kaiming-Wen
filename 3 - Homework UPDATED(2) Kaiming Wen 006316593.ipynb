{
 "cells": [
  {
   "cell_type": "code",
   "execution_count": 1,
   "id": "55621e94",
   "metadata": {
    "ExecuteTime": {
     "end_time": "2024-01-26T04:05:11.664980100Z",
     "start_time": "2024-01-26T04:05:07.681280500Z"
    }
   },
   "outputs": [],
   "source": [
    "import pandas as pd\n",
    "import matplotlib.pyplot as plt\n",
    "import warnings\n",
    "warnings.filterwarnings(\"ignore\")"
   ]
  },
  {
   "cell_type": "markdown",
   "id": "a055ebb7",
   "metadata": {},
   "source": [
    "# 1.) Clean the Apple Data to get a quarterly series of EPS."
   ]
  },
  {
   "cell_type": "code",
   "execution_count": 2,
   "id": "365b253b",
   "metadata": {
    "ExecuteTime": {
     "end_time": "2024-01-26T04:05:11.680937200Z",
     "start_time": "2024-01-26T04:05:11.158917300Z"
    }
   },
   "outputs": [],
   "source": [
    "y = pd.read_csv(\"AAPL_quarterly_financials.csv\")"
   ]
  },
  {
   "cell_type": "code",
   "execution_count": 3,
   "id": "8932850f",
   "metadata": {
    "ExecuteTime": {
     "end_time": "2024-01-26T04:05:11.681934600Z",
     "start_time": "2024-01-26T04:05:11.211641100Z"
    }
   },
   "outputs": [],
   "source": [
    "y.index = y.name"
   ]
  },
  {
   "cell_type": "code",
   "execution_count": 4,
   "id": "449862e7",
   "metadata": {
    "ExecuteTime": {
     "end_time": "2024-01-26T04:05:11.681934600Z",
     "start_time": "2024-01-26T04:05:11.220422600Z"
    }
   },
   "outputs": [],
   "source": [
    "y = pd.DataFrame(y.loc[\"BasicEPS\", :]).iloc[2:,:]"
   ]
  },
  {
   "cell_type": "code",
   "execution_count": 5,
   "id": "c39e6c1d",
   "metadata": {
    "ExecuteTime": {
     "end_time": "2024-01-26T04:05:11.682932900Z",
     "start_time": "2024-01-26T04:05:11.259641200Z"
    }
   },
   "outputs": [],
   "source": [
    "y.index = pd.to_datetime(y.index)"
   ]
  },
  {
   "cell_type": "code",
   "execution_count": 6,
   "id": "15452f18",
   "metadata": {
    "ExecuteTime": {
     "end_time": "2024-01-26T04:05:11.682932900Z",
     "start_time": "2024-01-26T04:05:11.282999900Z"
    }
   },
   "outputs": [],
   "source": [
    "# CHECK IF NAS ARE NO DIVIDEND PERIOD\n",
    "y = y.sort_index().fillna(0.)"
   ]
  },
  {
   "cell_type": "markdown",
   "id": "f660ca3c",
   "metadata": {},
   "source": [
    "# 2.) Come up with 6 search terms you think could nowcast earnings. (Different than the ones I used) Add in 3 terms that that you think will not Nowcast earnings. Pull in the gtrends data"
   ]
  },
  {
   "cell_type": "code",
   "execution_count": 7,
   "id": "101a8370",
   "metadata": {
    "ExecuteTime": {
     "end_time": "2024-01-26T04:05:11.683929800Z",
     "start_time": "2024-01-26T04:05:11.323400400Z"
    }
   },
   "outputs": [],
   "source": [
    "from pytrends.request import TrendReq"
   ]
  },
  {
   "cell_type": "code",
   "execution_count": 8,
   "id": "715787dd",
   "metadata": {
    "ExecuteTime": {
     "end_time": "2024-01-26T04:05:20.432847900Z",
     "start_time": "2024-01-26T04:05:11.637054200Z"
    }
   },
   "outputs": [],
   "source": [
    "# Create pytrends object\n",
    "pytrends = TrendReq(hl='en-US', tz=360)\n",
    "\n",
    "# Set up the keywords and the timeframe\n",
    "keywords = [\"Example Phrase 1\", \"Example Phrase 2\"]  # Add your keywords here\n",
    "start_date = '2004-01-01'\n",
    "end_date = '2024-01-01'\n",
    "\n",
    "# Create an empty DataFrame to store the results\n",
    "df = pd.DataFrame()\n",
    "\n",
    "# Iterate through keywords and fetch data\n",
    "for keyword in keywords:\n",
    "    pytrends.build_payload([keyword], cat=0, timeframe=f'{start_date} {end_date}', geo='', gprop='')\n",
    "    interest_over_time_df = pytrends.interest_over_time()\n",
    "    df[keyword] = interest_over_time_df[keyword]"
   ]
  },
  {
   "cell_type": "code",
   "execution_count": 9,
   "id": "22bbb744",
   "metadata": {
    "ExecuteTime": {
     "end_time": "2024-01-26T04:05:20.461771Z",
     "start_time": "2024-01-26T04:05:20.364591600Z"
    }
   },
   "outputs": [
    {
     "data": {
      "text/plain": "            Example Phrase 1  Example Phrase 2\ndate                                          \n2004-03-31         17.666667         64.000000\n2004-06-30         56.666667          9.000000\n2004-09-30         33.333333          0.000000\n2004-12-31          0.000000          0.000000\n2005-03-31          0.000000          4.666667\n...                      ...               ...\n2023-03-31         28.333333         15.333333\n2023-06-30         27.333333         14.666667\n2023-09-30         21.333333          9.666667\n2023-12-31         30.000000         18.333333\n2024-03-31         26.000000         13.000000\n\n[81 rows x 2 columns]",
      "text/html": "<div>\n<style scoped>\n    .dataframe tbody tr th:only-of-type {\n        vertical-align: middle;\n    }\n\n    .dataframe tbody tr th {\n        vertical-align: top;\n    }\n\n    .dataframe thead th {\n        text-align: right;\n    }\n</style>\n<table border=\"1\" class=\"dataframe\">\n  <thead>\n    <tr style=\"text-align: right;\">\n      <th></th>\n      <th>Example Phrase 1</th>\n      <th>Example Phrase 2</th>\n    </tr>\n    <tr>\n      <th>date</th>\n      <th></th>\n      <th></th>\n    </tr>\n  </thead>\n  <tbody>\n    <tr>\n      <th>2004-03-31</th>\n      <td>17.666667</td>\n      <td>64.000000</td>\n    </tr>\n    <tr>\n      <th>2004-06-30</th>\n      <td>56.666667</td>\n      <td>9.000000</td>\n    </tr>\n    <tr>\n      <th>2004-09-30</th>\n      <td>33.333333</td>\n      <td>0.000000</td>\n    </tr>\n    <tr>\n      <th>2004-12-31</th>\n      <td>0.000000</td>\n      <td>0.000000</td>\n    </tr>\n    <tr>\n      <th>2005-03-31</th>\n      <td>0.000000</td>\n      <td>4.666667</td>\n    </tr>\n    <tr>\n      <th>...</th>\n      <td>...</td>\n      <td>...</td>\n    </tr>\n    <tr>\n      <th>2023-03-31</th>\n      <td>28.333333</td>\n      <td>15.333333</td>\n    </tr>\n    <tr>\n      <th>2023-06-30</th>\n      <td>27.333333</td>\n      <td>14.666667</td>\n    </tr>\n    <tr>\n      <th>2023-09-30</th>\n      <td>21.333333</td>\n      <td>9.666667</td>\n    </tr>\n    <tr>\n      <th>2023-12-31</th>\n      <td>30.000000</td>\n      <td>18.333333</td>\n    </tr>\n    <tr>\n      <th>2024-03-31</th>\n      <td>26.000000</td>\n      <td>13.000000</td>\n    </tr>\n  </tbody>\n</table>\n<p>81 rows × 2 columns</p>\n</div>"
     },
     "execution_count": 9,
     "metadata": {},
     "output_type": "execute_result"
    }
   ],
   "source": [
    "df = df.resample(\"Q\").mean()\n",
    "df"
   ]
  },
  {
   "cell_type": "code",
   "execution_count": 10,
   "id": "c925f043",
   "metadata": {
    "ExecuteTime": {
     "end_time": "2024-01-26T04:05:20.462768600Z",
     "start_time": "2024-01-26T04:05:20.414762200Z"
    }
   },
   "outputs": [],
   "source": [
    "# ALIGN DATA\n",
    "temp = pd.concat([y, df],axis = 1).dropna()\n",
    "y = temp[[\"BasicEPS\"]].copy()\n",
    "X = temp.iloc[:,1:].copy()"
   ]
  },
  {
   "cell_type": "markdown",
   "id": "863d55e4",
   "metadata": {},
   "source": [
    "# 3.) Normalize all the X data"
   ]
  },
  {
   "cell_type": "code",
   "execution_count": 11,
   "id": "8325a0f4",
   "metadata": {
    "ExecuteTime": {
     "end_time": "2024-01-26T04:05:32.888845300Z",
     "start_time": "2024-01-26T04:05:20.427861700Z"
    }
   },
   "outputs": [],
   "source": [
    "from sklearn.preprocessing import StandardScaler"
   ]
  },
  {
   "cell_type": "code",
   "execution_count": 12,
   "id": "bc2504ab",
   "metadata": {
    "ExecuteTime": {
     "end_time": "2024-01-26T04:05:32.891838700Z",
     "start_time": "2024-01-26T04:05:32.632978500Z"
    }
   },
   "outputs": [
    {
     "data": {
      "text/plain": "            Example Phrase 1  Example Phrase 2\n2004-03-31          1.012500          7.679568\n2004-06-30          4.866923          0.640459\n2004-09-30          2.560858         -0.511395\n2004-12-31         -0.733520         -0.511395\n2005-03-31         -0.733520          0.085863\n...                      ...               ...\n2022-09-30          0.946612          0.555136\n2022-12-31          1.869038          1.280378\n2023-03-31          2.066701          1.451023\n2023-06-30          1.967870          1.365700\n2023-09-30          1.374882          0.725782\n\n[79 rows x 2 columns]",
      "text/html": "<div>\n<style scoped>\n    .dataframe tbody tr th:only-of-type {\n        vertical-align: middle;\n    }\n\n    .dataframe tbody tr th {\n        vertical-align: top;\n    }\n\n    .dataframe thead th {\n        text-align: right;\n    }\n</style>\n<table border=\"1\" class=\"dataframe\">\n  <thead>\n    <tr style=\"text-align: right;\">\n      <th></th>\n      <th>Example Phrase 1</th>\n      <th>Example Phrase 2</th>\n    </tr>\n  </thead>\n  <tbody>\n    <tr>\n      <th>2004-03-31</th>\n      <td>1.012500</td>\n      <td>7.679568</td>\n    </tr>\n    <tr>\n      <th>2004-06-30</th>\n      <td>4.866923</td>\n      <td>0.640459</td>\n    </tr>\n    <tr>\n      <th>2004-09-30</th>\n      <td>2.560858</td>\n      <td>-0.511395</td>\n    </tr>\n    <tr>\n      <th>2004-12-31</th>\n      <td>-0.733520</td>\n      <td>-0.511395</td>\n    </tr>\n    <tr>\n      <th>2005-03-31</th>\n      <td>-0.733520</td>\n      <td>0.085863</td>\n    </tr>\n    <tr>\n      <th>...</th>\n      <td>...</td>\n      <td>...</td>\n    </tr>\n    <tr>\n      <th>2022-09-30</th>\n      <td>0.946612</td>\n      <td>0.555136</td>\n    </tr>\n    <tr>\n      <th>2022-12-31</th>\n      <td>1.869038</td>\n      <td>1.280378</td>\n    </tr>\n    <tr>\n      <th>2023-03-31</th>\n      <td>2.066701</td>\n      <td>1.451023</td>\n    </tr>\n    <tr>\n      <th>2023-06-30</th>\n      <td>1.967870</td>\n      <td>1.365700</td>\n    </tr>\n    <tr>\n      <th>2023-09-30</th>\n      <td>1.374882</td>\n      <td>0.725782</td>\n    </tr>\n  </tbody>\n</table>\n<p>79 rows × 2 columns</p>\n</div>"
     },
     "execution_count": 12,
     "metadata": {},
     "output_type": "execute_result"
    }
   ],
   "source": [
    "scaler = StandardScaler()\n",
    "scaler.fit(X)\n",
    "sc_X = scaler.transform(X)\n",
    "sc_X = pd.DataFrame(sc_X)\n",
    "sc_X.columns = X.columns\n",
    "sc_X.index = X.index\n",
    "sc_X"
   ]
  },
  {
   "cell_type": "markdown",
   "id": "925f79f5",
   "metadata": {},
   "source": [
    "# 4.) Run a Lasso with lambda of .5. Plot a bar chart."
   ]
  },
  {
   "cell_type": "code",
   "execution_count": 13,
   "id": "d829a004",
   "metadata": {
    "ExecuteTime": {
     "end_time": "2024-01-26T04:05:36.093321300Z",
     "start_time": "2024-01-26T04:05:32.658462900Z"
    }
   },
   "outputs": [],
   "source": [
    "from sklearn.linear_model import Lasso"
   ]
  },
  {
   "cell_type": "code",
   "execution_count": 14,
   "id": "5e19efe6",
   "metadata": {
    "ExecuteTime": {
     "end_time": "2024-01-26T04:05:36.094320Z",
     "start_time": "2024-01-26T04:05:35.097540200Z"
    }
   },
   "outputs": [],
   "source": [
    "clf = Lasso(alpha=0.5)\n"
   ]
  },
  {
   "cell_type": "code",
   "execution_count": 15,
   "id": "ec86dbde",
   "metadata": {
    "ExecuteTime": {
     "end_time": "2024-01-26T04:05:36.097311900Z",
     "start_time": "2024-01-26T04:05:35.105691200Z"
    }
   },
   "outputs": [
    {
     "data": {
      "text/plain": "Lasso(alpha=0.5)",
      "text/html": "<style>#sk-container-id-1 {color: black;}#sk-container-id-1 pre{padding: 0;}#sk-container-id-1 div.sk-toggleable {background-color: white;}#sk-container-id-1 label.sk-toggleable__label {cursor: pointer;display: block;width: 100%;margin-bottom: 0;padding: 0.3em;box-sizing: border-box;text-align: center;}#sk-container-id-1 label.sk-toggleable__label-arrow:before {content: \"▸\";float: left;margin-right: 0.25em;color: #696969;}#sk-container-id-1 label.sk-toggleable__label-arrow:hover:before {color: black;}#sk-container-id-1 div.sk-estimator:hover label.sk-toggleable__label-arrow:before {color: black;}#sk-container-id-1 div.sk-toggleable__content {max-height: 0;max-width: 0;overflow: hidden;text-align: left;background-color: #f0f8ff;}#sk-container-id-1 div.sk-toggleable__content pre {margin: 0.2em;color: black;border-radius: 0.25em;background-color: #f0f8ff;}#sk-container-id-1 input.sk-toggleable__control:checked~div.sk-toggleable__content {max-height: 200px;max-width: 100%;overflow: auto;}#sk-container-id-1 input.sk-toggleable__control:checked~label.sk-toggleable__label-arrow:before {content: \"▾\";}#sk-container-id-1 div.sk-estimator input.sk-toggleable__control:checked~label.sk-toggleable__label {background-color: #d4ebff;}#sk-container-id-1 div.sk-label input.sk-toggleable__control:checked~label.sk-toggleable__label {background-color: #d4ebff;}#sk-container-id-1 input.sk-hidden--visually {border: 0;clip: rect(1px 1px 1px 1px);clip: rect(1px, 1px, 1px, 1px);height: 1px;margin: -1px;overflow: hidden;padding: 0;position: absolute;width: 1px;}#sk-container-id-1 div.sk-estimator {font-family: monospace;background-color: #f0f8ff;border: 1px dotted black;border-radius: 0.25em;box-sizing: border-box;margin-bottom: 0.5em;}#sk-container-id-1 div.sk-estimator:hover {background-color: #d4ebff;}#sk-container-id-1 div.sk-parallel-item::after {content: \"\";width: 100%;border-bottom: 1px solid gray;flex-grow: 1;}#sk-container-id-1 div.sk-label:hover label.sk-toggleable__label {background-color: #d4ebff;}#sk-container-id-1 div.sk-serial::before {content: \"\";position: absolute;border-left: 1px solid gray;box-sizing: border-box;top: 0;bottom: 0;left: 50%;z-index: 0;}#sk-container-id-1 div.sk-serial {display: flex;flex-direction: column;align-items: center;background-color: white;padding-right: 0.2em;padding-left: 0.2em;position: relative;}#sk-container-id-1 div.sk-item {position: relative;z-index: 1;}#sk-container-id-1 div.sk-parallel {display: flex;align-items: stretch;justify-content: center;background-color: white;position: relative;}#sk-container-id-1 div.sk-item::before, #sk-container-id-1 div.sk-parallel-item::before {content: \"\";position: absolute;border-left: 1px solid gray;box-sizing: border-box;top: 0;bottom: 0;left: 50%;z-index: -1;}#sk-container-id-1 div.sk-parallel-item {display: flex;flex-direction: column;z-index: 1;position: relative;background-color: white;}#sk-container-id-1 div.sk-parallel-item:first-child::after {align-self: flex-end;width: 50%;}#sk-container-id-1 div.sk-parallel-item:last-child::after {align-self: flex-start;width: 50%;}#sk-container-id-1 div.sk-parallel-item:only-child::after {width: 0;}#sk-container-id-1 div.sk-dashed-wrapped {border: 1px dashed gray;margin: 0 0.4em 0.5em 0.4em;box-sizing: border-box;padding-bottom: 0.4em;background-color: white;}#sk-container-id-1 div.sk-label label {font-family: monospace;font-weight: bold;display: inline-block;line-height: 1.2em;}#sk-container-id-1 div.sk-label-container {text-align: center;}#sk-container-id-1 div.sk-container {/* jupyter's `normalize.less` sets `[hidden] { display: none; }` but bootstrap.min.css set `[hidden] { display: none !important; }` so we also need the `!important` here to be able to override the default hidden behavior on the sphinx rendered scikit-learn.org. See: https://github.com/scikit-learn/scikit-learn/issues/21755 */display: inline-block !important;position: relative;}#sk-container-id-1 div.sk-text-repr-fallback {display: none;}</style><div id=\"sk-container-id-1\" class=\"sk-top-container\"><div class=\"sk-text-repr-fallback\"><pre>Lasso(alpha=0.5)</pre><b>In a Jupyter environment, please rerun this cell to show the HTML representation or trust the notebook. <br />On GitHub, the HTML representation is unable to render, please try loading this page with nbviewer.org.</b></div><div class=\"sk-container\" hidden><div class=\"sk-item\"><div class=\"sk-estimator sk-toggleable\"><input class=\"sk-toggleable__control sk-hidden--visually\" id=\"sk-estimator-id-1\" type=\"checkbox\" checked><label for=\"sk-estimator-id-1\" class=\"sk-toggleable__label sk-toggleable__label-arrow\">Lasso</label><div class=\"sk-toggleable__content\"><pre>Lasso(alpha=0.5)</pre></div></div></div></div></div>"
     },
     "execution_count": 15,
     "metadata": {},
     "output_type": "execute_result"
    }
   ],
   "source": [
    "clf.fit(X, y)"
   ]
  },
  {
   "cell_type": "code",
   "execution_count": 16,
   "id": "fd87f09b",
   "metadata": {
    "ExecuteTime": {
     "end_time": "2024-01-26T04:05:36.097311900Z",
     "start_time": "2024-01-26T04:05:35.139881400Z"
    }
   },
   "outputs": [],
   "source": [
    "coefficients = clf.coef_"
   ]
  },
  {
   "cell_type": "code",
   "execution_count": 17,
   "id": "c54e8a3d",
   "metadata": {
    "ExecuteTime": {
     "end_time": "2024-01-26T04:05:36.099305800Z",
     "start_time": "2024-01-26T04:05:35.156035500Z"
    }
   },
   "outputs": [
    {
     "data": {
      "text/plain": "<Figure size 1200x500 with 1 Axes>",
      "image/png": "[encoded data removed]"
     },
     "metadata": {},
     "output_type": "display_data"
    }
   ],
   "source": [
    "plt.figure(figsize = (12,5))\n",
    "plt.bar(range(len(coefficients)), coefficients)\n",
    "plt.xticks(range(len(coefficients)), X.columns)\n",
    "plt.axhline(0, color = \"red\")\n",
    "plt.ylabel('Coefficient Value')\n",
    "plt.show()"
   ]
  },
  {
   "cell_type": "markdown",
   "id": "96278b34",
   "metadata": {},
   "source": [
    "# 5.) Do these coefficient magnitudes make sense?"
   ]
  },
  {
   "cell_type": "code",
   "execution_count": 18,
   "id": "9a90199c",
   "metadata": {
    "ExecuteTime": {
     "end_time": "2024-01-26T04:05:36.113269500Z",
     "start_time": "2024-01-26T04:05:35.708996Z"
    }
   },
   "outputs": [],
   "source": [
    "from sklearn.linear_model import LassoCV "
   ]
  },
  {
   "cell_type": "code",
   "execution_count": 19,
   "id": "e7560947",
   "metadata": {
    "ExecuteTime": {
     "end_time": "2024-01-26T04:05:36.114266700Z",
     "start_time": "2024-01-26T04:05:35.719187200Z"
    }
   },
   "outputs": [],
   "source": [
    "modCV = LassoCV().fit(X, y)"
   ]
  },
  {
   "cell_type": "code",
   "execution_count": 20,
   "id": "7999aef1",
   "metadata": {
    "ExecuteTime": {
     "end_time": "2024-01-26T04:05:36.115264Z",
     "start_time": "2024-01-26T04:05:35.892842Z"
    }
   },
   "outputs": [
    {
     "data": {
      "text/plain": "array([0., 0.])"
     },
     "execution_count": 20,
     "metadata": {},
     "output_type": "execute_result"
    }
   ],
   "source": [
    "modCV.coef_"
   ]
  }
 ],
 "metadata": {
  "kernelspec": {
   "display_name": "Python 3 (ipykernel)",
   "language": "python",
   "name": "python3"
  },
  "language_info": {
   "codemirror_mode": {
    "name": "ipython",
    "version": 3
   },
   "file_extension": ".py",
   "mimetype": "text/x-python",
   "name": "python",
   "nbconvert_exporter": "python",
   "pygments_lexer": "ipython3",
   "version": "3.11.5"
  }
 },
 "nbformat": 4,
 "nbformat_minor": 5
}
