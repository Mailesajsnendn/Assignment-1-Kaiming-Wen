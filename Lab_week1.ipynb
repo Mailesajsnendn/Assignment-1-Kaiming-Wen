{
 "cells": [
  {
   "cell_type": "code",
   "execution_count": null,
   "id": "4b92385b-7d24-4a99-b27e-62085398f38a",
   "metadata": {},
   "outputs": [],
   "source": [
    "# Import the necessary modules\n",
    "\n"
   ]
  },
  {
   "cell_type": "code",
   "execution_count": null,
   "id": "44818284-7b11-4de1-a89d-b91153b10ba7",
   "metadata": {},
   "outputs": [],
   "source": [
    "# Import the voteA data\n",
    "\n"
   ]
  },
  {
   "cell_type": "code",
   "execution_count": 1,
   "id": "bc550bef-282d-45b8-ab46-077b4df51ca8",
   "metadata": {},
   "outputs": [],
   "source": [
    "# feel free to use this or the module implementations:\n",
    "import numpy as np\n",
    "import scipy.stats as stats\n",
    "import statsmodels.api as sm\n",
    "import matplotlib.pyplot as plt\n",
    "\n",
    "def qqplot_with_ci(data, dist=stats.norm, confidence=0.95):\n",
    "    \"\"\"\n",
    "    Generates a Q-Q plot with confidence intervals.\n",
    "    \n",
    "    Parameters:\n",
    "    - data: array-like, the sample data.\n",
    "    - dist: scipy.stats distribution object, the theoretical distribution to compare against.\n",
    "    - confidence: float, the confidence level for the intervals.\n",
    "    \"\"\"\n",
    "    # Sort the data\n",
    "    data = np.sort(data)\n",
    "    n = len(data)\n",
    "    \n",
    "    # Calculate theoretical quantiles\n",
    "    p = (np.arange(1, n + 1) - 0.5) / n\n",
    "    q_theoretical = dist.ppf(p)\n",
    "    \n",
    "    # Calculate standard error and confidence intervals\n",
    "    se = (p * (1 - p)) / (n * dist.pdf(q_theoretical) ** 2)\n",
    "    se = np.sqrt(se)\n",
    "    z = dist.ppf(1 - (1 - confidence) / 2)\n",
    "    ci_lower = q_theoretical - z * se\n",
    "    ci_upper = q_theoretical + z * se\n",
    "    \n",
    "    # Plotting\n",
    "    plt.figure(figsize=(8, 6))\n",
    "    plt.plot(q_theoretical, data, 'o', label='Sample Data')\n",
    "    plt.plot(q_theoretical, q_theoretical, 'r-', label='Ideal Fit')\n",
    "    plt.fill_between(q_theoretical, ci_lower, ci_upper, color='gray', alpha=0.2, label=f'{int(confidence*100)}% Confidence Interval')\n",
    "    plt.xlabel('Theoretical Quantiles')\n",
    "    plt.ylabel('Sample Quantiles')\n",
    "    plt.legend()\n",
    "    plt.title('Q-Q Plot with Confidence Intervals')\n",
    "    plt.show()"
   ]
  }
 ],
 "metadata": {
  "kernelspec": {
   "display_name": "Python 3 (ipykernel)",
   "language": "python",
   "name": "python3"
  },
  "language_info": {
   "codemirror_mode": {
    "name": "ipython",
    "version": 3
   },
   "file_extension": ".py",
   "mimetype": "text/x-python",
   "name": "python",
   "nbconvert_exporter": "python",
   "pygments_lexer": "ipython3",
   "version": "3.10.14"
  }
 },
 "nbformat": 4,
 "nbformat_minor": 5
}
