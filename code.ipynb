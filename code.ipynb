{
 "cells": [
  {
   "cell_type": "code",
   "execution_count": 1,
   "id": "6ae4bbe0",
   "metadata": {},
   "outputs": [
    {
     "data": {
      "text/plain": [
       "'1.1.0'"
      ]
     },
     "execution_count": 1,
     "metadata": {},
     "output_type": "execute_result"
    }
   ],
   "source": [
    "import pyblp\n",
    "import numpy as np\n",
    "import pandas as pd \n",
    "\n",
    "# import os module\n",
    "import os\n",
    "import matplotlib.pyplot as plt\n",
    "\n",
    "pyblp.options.digits = 2\n",
    "pyblp.options.verbose = False\n",
    "pyblp.__version__"
   ]
  },
  {
   "cell_type": "code",
   "execution_count": 2,
   "id": "bd372a94",
   "metadata": {},
   "outputs": [],
   "source": [
    "product_data = pd.read_csv(\"products_pizza.csv\")\n",
    "agent_data = pd.read_csv(\"agents_pizza.csv\")\n",
    "product_data.columns=['product_ids', 'market_ids', 'firm_ids', 'shares', 'demand_instruments0',\n",
    "       'demand_instruments1', 'demand_instruments2', 'demand_instruments3',\n",
    "       'demand_instruments4', 'supply_instruments0', 'supply_instruments1',\n",
    "       'supply_instruments2', 'supply_instruments3', 'supply_instruments4',\n",
    "       'prices', 'deliverytime', 'rating', 'hourlywages', 'ratingmin']\n"
   ]
  },
  {
   "cell_type": "code",
   "execution_count": 3,
   "id": "a47f5a10",
   "metadata": {},
   "outputs": [
    {
     "data": {
      "text/plain": [
       "Dimensions:\n",
       "======================================================\n",
       " T    N    F    I     K1    K2    K3    D    MD    MS \n",
       "---  ---  ---  ----  ----  ----  ----  ---  ----  ----\n",
       "20   500   6   1620   1     4     3     1    5     8  \n",
       "======================================================\n",
       "\n",
       "Formulations:\n",
       "========================================================================\n",
       "        Column Indices:              0        1          2          3   \n",
       "-------------------------------  ---------  ------  ------------  ------\n",
       "  X1: Linear Characteristics      prices                                \n",
       " X2: Nonlinear Characteristics       1      prices  deliverytime  rating\n",
       "X3: Linear Cost Characteristics      1      rating  hourlywages         \n",
       "        d: Demographics          invincome                              \n",
       "========================================================================"
      ]
     },
     "execution_count": 3,
     "metadata": {},
     "output_type": "execute_result"
    }
   ],
   "source": [
    "agent_formulation = pyblp.Formulation('0+ invincome')\n",
    "agent_formulation\n",
    "product_formulations = (\n",
    "   pyblp.Formulation('0 + prices'),\n",
    "   pyblp.Formulation('1 + prices + deliverytime + rating'),\n",
    "   pyblp.Formulation('1 + rating +hourlywages')\n",
    ")\n",
    "product_formulations\n",
    "problem = pyblp.Problem(product_formulations, product_data, agent_formulation, agent_data)\n",
    "problem"
   ]
  },
  {
   "cell_type": "code",
   "execution_count": 4,
   "id": "6483a1ad",
   "metadata": {},
   "outputs": [
    {
     "data": {
      "text/plain": [
       "Dimensions:\n",
       "======================================================\n",
       " T    N    F    I     K1    K2    K3    D    MD    MS \n",
       "---  ---  ---  ----  ----  ----  ----  ---  ----  ----\n",
       "20   500   6   1620   1     4     3     1    5     8  \n",
       "======================================================\n",
       "\n",
       "Formulations:\n",
       "========================================================================\n",
       "        Column Indices:              0        1          2          3   \n",
       "-------------------------------  ---------  ------  ------------  ------\n",
       "  X1: Linear Characteristics      prices                                \n",
       " X2: Nonlinear Characteristics       1      prices  deliverytime  rating\n",
       "X3: Linear Cost Characteristics      1      rating  hourlywages         \n",
       "        d: Demographics          invincome                              \n",
       "========================================================================"
      ]
     },
     "execution_count": 4,
     "metadata": {},
     "output_type": "execute_result"
    }
   ],
   "source": [
    "nevo_problem = pyblp.Problem(\n",
    "    product_formulations,\n",
    "    product_data,\n",
    "    agent_formulation,\n",
    "    agent_data\n",
    ")\n",
    "nevo_problem"
   ]
  },
  {
   "cell_type": "code",
   "execution_count": 30,
   "id": "98895cd9",
   "metadata": {},
   "outputs": [],
   "source": [
    "initial_sigma = np.diag([3.612, 0, 0, 1.818])\n",
    "initial_pi = np.array([ 5.4819,  1,0.2037,  0])\n",
    "initial_beta=np.c_[[0]]\n",
    "initial_gamma=np.c_[[3, 1, 0.5]]\n",
    "tighter_bfgs = pyblp.Optimization('bfgs', {'gtol': 1e-5})\n",
    "nevo_results = nevo_problem.solve(\n",
    "    initial_sigma,\n",
    "    initial_pi,\n",
    "    beta=initial_beta,\n",
    "    gamma=initial_gamma,\n",
    "    optimization=tighter_bfgs,\n",
    "    method='2s'\n",
    ")"
   ]
  },
  {
   "cell_type": "code",
   "execution_count": 31,
   "id": "991afc67",
   "metadata": {},
   "outputs": [
    {
     "data": {
      "text/plain": [
       "Problem Results Summary:\n",
       "=======================================================================================================\n",
       "GMM   Objective  Gradient      Hessian         Hessian     Clipped  Weighting Matrix  Covariance Matrix\n",
       "Step    Value      Norm    Min Eigenvalue  Max Eigenvalue  Shares   Condition Number  Condition Number \n",
       "----  ---------  --------  --------------  --------------  -------  ----------------  -----------------\n",
       " 2    +3.1E+00   +2.6E-06     +1.7E-01        +5.6E+05        0         +1.8E+06          +1.7E+06     \n",
       "=======================================================================================================\n",
       "\n",
       "Cumulative Statistics:\n",
       "===========================================================================\n",
       "Computation  Optimizer  Optimization   Objective   Fixed Point  Contraction\n",
       "   Time      Converged   Iterations   Evaluations  Iterations   Evaluations\n",
       "-----------  ---------  ------------  -----------  -----------  -----------\n",
       " 00:01:38       No           82           205        383411       1154906  \n",
       "===========================================================================\n",
       "\n",
       "Nonlinear Coefficient Estimates (Robust SEs in Parentheses):\n",
       "=========================================================================================\n",
       "   Sigma:         1        prices   deliverytime    rating    |      Pi:       invincome \n",
       "------------  ----------  --------  ------------  ----------  |  ------------  ----------\n",
       "     1         -3.0E+00                                       |       1         +2.7E+00 \n",
       "              (+3.2E-01)                                      |                (+9.2E-01)\n",
       "                                                              |                          \n",
       "   prices      +0.0E+00   +0.0E+00                            |     prices      +6.6E+00 \n",
       "                                                              |                (+5.4E-01)\n",
       "                                                              |                          \n",
       "deliverytime   +0.0E+00   +0.0E+00    +0.0E+00                |  deliverytime   +1.2E+00 \n",
       "                                                              |                (+6.7E-01)\n",
       "                                                              |                          \n",
       "   rating      +0.0E+00   +0.0E+00    +0.0E+00     +1.0E+00   |     rating      +0.0E+00 \n",
       "                                                  (+1.9E-01)  |                          \n",
       "=========================================================================================\n",
       "\n",
       "Beta Estimates (Robust SEs in Parentheses):\n",
       "==========\n",
       "  prices  \n",
       "----------\n",
       " -6.3E+00 \n",
       "(+5.3E-01)\n",
       "==========\n",
       "\n",
       "Gamma Estimates (Robust SEs in Parentheses):\n",
       "===================================\n",
       "    1         rating    hourlywages\n",
       "----------  ----------  -----------\n",
       " +2.8E+00    +4.9E-01    -1.2E+00  \n",
       "(+1.2E+00)  (+2.4E+00)  (+1.9E+00) \n",
       "==================================="
      ]
     },
     "execution_count": 31,
     "metadata": {},
     "output_type": "execute_result"
    }
   ],
   "source": [
    "nevo_results "
   ]
  },
  {
   "cell_type": "code",
   "execution_count": 32,
   "id": "401c8cd2",
   "metadata": {},
   "outputs": [
    {
     "data": {
      "image/png": "[encoded data removed]",
      "text/plain": [
       "<Figure size 288x288 with 2 Axes>"
      ]
     },
     "metadata": {
      "needs_background": "light"
     },
     "output_type": "display_data"
    }
   ],
   "source": [
    "elasticities = nevo_results.compute_elasticities()\n",
    "diversions = nevo_results.compute_diversion_ratios()\n",
    "single_market = product_data['market_ids'] ==0\n",
    "plt.colorbar(plt.matshow(elasticities[single_market]));"
   ]
  },
  {
   "cell_type": "code",
   "execution_count": 33,
   "id": "0522110d",
   "metadata": {},
   "outputs": [
    {
     "data": {
      "text/plain": [
       "array([-2.44684205, -1.46242987, -0.91409236, -2.33926347, -2.95325851,\n",
       "       -1.50067906, -0.8249242 , -1.85592276, -2.63943762, -3.32057708,\n",
       "       -2.11385982, -1.34128544, -2.13570835, -2.92700815, -2.61794282,\n",
       "       -3.34127976, -3.96933847, -4.45523004, -1.23794025, -2.55242766,\n",
       "       -1.36523864, -0.90239787, -1.46516951, -1.26117431, -2.7078307 ])"
      ]
     },
     "execution_count": 33,
     "metadata": {},
     "output_type": "execute_result"
    }
   ],
   "source": [
    "np.diagonal(elasticities[single_market])"
   ]
  },
  {
   "cell_type": "code",
   "execution_count": 34,
   "id": "4eedc13d",
   "metadata": {},
   "outputs": [
    {
     "data": {
      "text/plain": [
       "array([[ -2.18605035],\n",
       "       [ -0.93063492],\n",
       "       [ -1.78784557],\n",
       "       [ -2.28157992],\n",
       "       [ -2.54175553],\n",
       "       [ -3.96963486],\n",
       "       [ -1.47873009],\n",
       "       [  0.08396121],\n",
       "       [ -3.87708947],\n",
       "       [ -0.89880289],\n",
       "       [ -1.88939557],\n",
       "       [ -4.88956028],\n",
       "       [-12.72065174],\n",
       "       [ -4.51208863],\n",
       "       [ -1.75286712],\n",
       "       [ -5.26797367],\n",
       "       [ -1.8309679 ],\n",
       "       [ -5.1799186 ],\n",
       "       [ -4.14863145],\n",
       "       [ -4.49897882]])"
      ]
     },
     "execution_count": 34,
     "metadata": {},
     "output_type": "execute_result"
    }
   ],
   "source": [
    "mean_elasticities = np.mean(elasticities)\n",
    "mean_elasticities \n",
    "means = nevo_results.extract_diagonal_means(elasticities)\n",
    "means"
   ]
  },
  {
   "cell_type": "code",
   "execution_count": 35,
   "id": "cee893f1",
   "metadata": {},
   "outputs": [
    {
     "data": {
      "text/plain": [
       "array([[-0.13937217],\n",
       "       [-0.18020088],\n",
       "       [-0.11107163],\n",
       "       [-0.23992494],\n",
       "       [-0.22854012],\n",
       "       [-0.27870771],\n",
       "       [-0.17181503],\n",
       "       [-0.03452284],\n",
       "       [-0.20000475],\n",
       "       [-0.04363184],\n",
       "       [-0.14355923],\n",
       "       [-0.30210132],\n",
       "       [-0.96467742],\n",
       "       [-0.25996131],\n",
       "       [-0.03156282],\n",
       "       [-0.39641623],\n",
       "       [-0.12520923],\n",
       "       [-0.51665283],\n",
       "       [-0.32911748],\n",
       "       [-0.270619  ]])"
      ]
     },
     "execution_count": 35,
     "metadata": {},
     "output_type": "execute_result"
    }
   ],
   "source": [
    "aggregates = nevo_results.compute_aggregate_elasticities(factor=0.1)\n",
    "aggregates"
   ]
  },
  {
   "cell_type": "code",
   "execution_count": 36,
   "id": "688139ee",
   "metadata": {},
   "outputs": [
    {
     "data": {
      "text/plain": [
       "array([[2.32215440e-01],\n",
       "       [2.69033365e-01],\n",
       "       [3.24505973e-01],\n",
       "       [3.68139124e-01],\n",
       "       [1.24975245e-01],\n",
       "       [1.81596736e-01],\n",
       "       [1.61328616e-01],\n",
       "       [3.52882126e-01],\n",
       "       [1.79393481e-01],\n",
       "       [2.27458796e-04],\n",
       "       [4.62577182e-01],\n",
       "       [1.33849691e-01],\n",
       "       [1.68595592e-01],\n",
       "       [2.67709182e-01],\n",
       "       [1.08166943e-01],\n",
       "       [2.65290479e-01],\n",
       "       [4.82013069e-01],\n",
       "       [3.93369072e-01],\n",
       "       [4.39184617e-01],\n",
       "       [1.66767182e-01]])"
      ]
     },
     "execution_count": 36,
     "metadata": {},
     "output_type": "execute_result"
    }
   ],
   "source": [
    "means = nevo_results.extract_diagonal_means(diversions)\n",
    "means"
   ]
  },
  {
   "cell_type": "code",
   "execution_count": 37,
   "id": "f5dba1b7",
   "metadata": {},
   "outputs": [
    {
     "data": {
      "image/png": "[encoded data removed]",
      "text/plain": [
       "<Figure size 432x288 with 1 Axes>"
      ]
     },
     "metadata": {
      "needs_background": "light"
     },
     "output_type": "display_data"
    }
   ],
   "source": [
    "costs = nevo_results.compute_costs()\n",
    "filtered_costs = costs[costs >= 0]\n",
    "plt.hist(filtered_costs, bins=50);\n",
    "plt.legend([\"Marginal Costs\"]);"
   ]
  },
  {
   "cell_type": "code",
   "execution_count": 38,
   "id": "6cc99773",
   "metadata": {},
   "outputs": [
    {
     "name": "stdout",
     "output_type": "stream",
     "text": [
      "Summary Statistics:\n",
      "Mean Cost: 4.381415221399167\n",
      "Median Cost: 2.7192669391556823\n",
      "Standard Deviation: 12.910993479949589\n"
     ]
    }
   ],
   "source": [
    "\n",
    "# Calculate summary statistics\n",
    "mean_cost = np.mean(filtered_costs)\n",
    "median_cost = np.median(filtered_costs)\n",
    "std_deviation = np.std(filtered_costs)\n",
    "\n",
    "# Print summary statistics\n",
    "print(\"Summary Statistics:\")\n",
    "print(f\"Mean Cost: {mean_cost}\")\n",
    "print(f\"Median Cost: {median_cost}\")\n",
    "print(f\"Standard Deviation: {std_deviation}\")"
   ]
  },
  {
   "cell_type": "code",
   "execution_count": 39,
   "id": "44166b7c",
   "metadata": {},
   "outputs": [
    {
     "data": {
      "image/png": "[encoded data removed]",
      "text/plain": [
       "<Figure size 432x288 with 1 Axes>"
      ]
     },
     "metadata": {
      "needs_background": "light"
     },
     "output_type": "display_data"
    }
   ],
   "source": [
    "markups =nevo_results.compute_markups(costs=costs)\n",
    "filtered_markups = markups[markups >= 0]\n",
    "plt.hist(filtered_markups, bins=50);\n",
    "plt.legend([\"Markups\"]);"
   ]
  },
  {
   "cell_type": "code",
   "execution_count": 40,
   "id": "ad57e62d",
   "metadata": {},
   "outputs": [
    {
     "name": "stdout",
     "output_type": "stream",
     "text": [
      "Summary Statistics for Filtered Markups:\n",
      "Mean Markup: 0.7381316335083109\n",
      "Median Markup: 0.3802605318036348\n",
      "Standard Deviation of Markup: 2.135516182478023\n"
     ]
    }
   ],
   "source": [
    "# Calculate summary statistics\n",
    "mean_markup = np.mean(filtered_markups)\n",
    "median_markup = np.median(filtered_markups)\n",
    "std_deviation_markup = np.std(filtered_markups)\n",
    "\n",
    "# Print summary statistics\n",
    "print(\"Summary Statistics for Filtered Markups:\")\n",
    "print(f\"Mean Markup: {mean_markup}\")\n",
    "print(f\"Median Markup: {median_markup}\")\n",
    "print(f\"Standard Deviation of Markup: {std_deviation_markup}\")"
   ]
  },
  {
   "cell_type": "code",
   "execution_count": 41,
   "id": "290f40db",
   "metadata": {},
   "outputs": [],
   "source": [
    "results=nevo_results\n",
    "hhi = results.compute_hhi()"
   ]
  },
  {
   "cell_type": "code",
   "execution_count": 42,
   "id": "dd5cbdf7",
   "metadata": {},
   "outputs": [
    {
     "name": "stdout",
     "output_type": "stream",
     "text": [
      "Mean HHI: 1868.0849541349949\n",
      "Median HHI: 1812.8573540025077\n",
      "Standard Deviation of HHI: 220.04113228644906\n"
     ]
    }
   ],
   "source": [
    "mean_HHI = np.mean(hhi)\n",
    "median_HHI = np.median(hhi)\n",
    "std_deviation_HHI = np.std(hhi)\n",
    "\n",
    "# Print summary statistics\n",
    "\n",
    "print(f\"Mean HHI: {mean_HHI}\")\n",
    "print(f\"Median HHI: {median_HHI}\")\n",
    "print(f\"Standard Deviation of HHI: {std_deviation_HHI}\")"
   ]
  },
  {
   "cell_type": "code",
   "execution_count": 43,
   "id": "07fcf14d",
   "metadata": {},
   "outputs": [
    {
     "name": "stdout",
     "output_type": "stream",
     "text": [
      "Summary Statistics for Profits:\n",
      "Mean Profit: 68736.97575604689\n",
      "Median Profit: 68490.6787176042\n",
      "Standard Deviation of Profit: 907612.3629187512\n"
     ]
    }
   ],
   "source": [
    "profits = results.compute_profits(costs=costs)*6000000\n",
    "# Calculate summary statistics\n",
    "mean_profit = np.mean(profits)\n",
    "median_profit = np.median(profits)\n",
    "std_deviation_profit = np.std(profits)\n",
    "\n",
    "# Print summary statistics\n",
    "print(\"Summary Statistics for Profits:\")\n",
    "print(f\"Mean Profit: {mean_profit}\")\n",
    "print(f\"Median Profit: {median_profit}\")\n",
    "print(f\"Standard Deviation of Profit: {std_deviation_profit}\")"
   ]
  },
  {
   "cell_type": "code",
   "execution_count": 44,
   "id": "6a558187",
   "metadata": {},
   "outputs": [
    {
     "data": {
      "image/png": "[encoded data removed]",
      "text/plain": [
       "<Figure size 432x288 with 1 Axes>"
      ]
     },
     "metadata": {
      "needs_background": "light"
     },
     "output_type": "display_data"
    }
   ],
   "source": [
    "plt.hist(profits, bins=50);\n",
    "plt.legend([\"profits\"]);"
   ]
  },
  {
   "cell_type": "code",
   "execution_count": 45,
   "id": "6a3dcfd7",
   "metadata": {},
   "outputs": [],
   "source": [
    "cs = results.compute_consumer_surpluses()*6000000"
   ]
  },
  {
   "cell_type": "code",
   "execution_count": 46,
   "id": "202aab32",
   "metadata": {},
   "outputs": [
    {
     "data": {
      "text/plain": [
       "array([8958098.95710743])"
      ]
     },
     "execution_count": 46,
     "metadata": {},
     "output_type": "execute_result"
    }
   ],
   "source": [
    "df = pd.concat([product_data['market_ids'],pd.DataFrame(cs)],axis=1, ignore_index=True)\n",
    "df.columns =['market', 'cs']\n",
    "avgmarkup=pd.DataFrame(df.groupby('market')['cs'].mean())\n",
    "avgmarkup=np.array(avgmarkup)\n",
    "avgmarkup[0]"
   ]
  },
  {
   "cell_type": "code",
   "execution_count": 47,
   "id": "39184e08",
   "metadata": {},
   "outputs": [],
   "source": [
    "product_data['merger_ids'] = product_data['firm_ids'].replace(0,1)\n",
    "product_data['merger_ids'] = product_data['firm_ids'].replace(2,1)\n",
    "product_data['merger_ids'] = product_data['firm_ids'].replace(3,1)"
   ]
  },
  {
   "cell_type": "code",
   "execution_count": 48,
   "id": "fd1e0260",
   "metadata": {},
   "outputs": [],
   "source": [
    "changed_prices = results.compute_prices(\n",
    "    firm_ids=product_data['merger_ids'], \n",
    "    costs=costs\n",
    ")"
   ]
  },
  {
   "cell_type": "code",
   "execution_count": 49,
   "id": "ae593799",
   "metadata": {},
   "outputs": [],
   "source": [
    "changed_shares = results.compute_shares(changed_prices)"
   ]
  },
  {
   "cell_type": "code",
   "execution_count": 50,
   "id": "b13ce143",
   "metadata": {},
   "outputs": [
    {
     "data": {
      "image/png": "[encoded data removed]",
      "text/plain": [
       "<Figure size 432x288 with 1 Axes>"
      ]
     },
     "metadata": {
      "needs_background": "light"
     },
     "output_type": "display_data"
    }
   ],
   "source": [
    "changed_hhi = results.compute_hhi(\n",
    "    firm_ids=product_data['merger_ids'],\n",
    "    shares=changed_shares\n",
    ")\n",
    "plt.hist(changed_hhi - hhi, bins=50);\n",
    "plt.legend([\"HHI Changes\"]);"
   ]
  },
  {
   "cell_type": "code",
   "execution_count": 51,
   "id": "e5de6e20",
   "metadata": {},
   "outputs": [
    {
     "data": {
      "image/png": "[encoded data removed]",
      "text/plain": [
       "<Figure size 432x288 with 1 Axes>"
      ]
     },
     "metadata": {
      "needs_background": "light"
     },
     "output_type": "display_data"
    }
   ],
   "source": [
    "changed_markups = results.compute_markups(changed_prices, costs)\n",
    "plt.hist(changed_markups - markups, bins=50);\n",
    "plt.legend([\"Markup Changes\"]);"
   ]
  },
  {
   "cell_type": "code",
   "execution_count": 52,
   "id": "13ceb0a8",
   "metadata": {},
   "outputs": [
    {
     "data": {
      "image/png": "[encoded data removed]",
      "text/plain": [
       "<Figure size 432x288 with 1 Axes>"
      ]
     },
     "metadata": {
      "needs_background": "light"
     },
     "output_type": "display_data"
    }
   ],
   "source": [
    "changed_profits = results.compute_profits(changed_prices, changed_shares, costs)*6000000\n",
    "plt.hist(changed_profits - profits, bins=50);\n",
    "plt.legend([\"Profit Changes\"]);"
   ]
  },
  {
   "cell_type": "code",
   "execution_count": 53,
   "id": "51be7ec1",
   "metadata": {},
   "outputs": [
    {
     "data": {
      "image/png": "[encoded data removed]",
      "text/plain": [
       "<Figure size 432x288 with 1 Axes>"
      ]
     },
     "metadata": {
      "needs_background": "light"
     },
     "output_type": "display_data"
    }
   ],
   "source": [
    "changed_cs = results.compute_consumer_surpluses(changed_prices)*6000000\n",
    "plt.hist(changed_cs - cs, bins=50);\n",
    "plt.legend([\"Consumer Surplus Changes\"]);"
   ]
  },
  {
   "cell_type": "code",
   "execution_count": 54,
   "id": "6d0e29d3",
   "metadata": {},
   "outputs": [
    {
     "name": "stdout",
     "output_type": "stream",
     "text": [
      "mean_markupschange: 0.6939578545086488\n",
      "mean_profitchange: -659135964.2561997\n",
      "mean_cschange: 16494358764.502598\n"
     ]
    }
   ],
   "source": [
    "mean_markups  = np.mean(changed_markups - markups)\n",
    "mean_profit = np.mean(changed_profits - profits)\n",
    "mean_cs = np.mean(changed_cs - cs)\n",
    "print(f\"mean_markupschange: {mean_markups}\")\n",
    "print(f\"mean_profitchange: {mean_profit}\")\n",
    "print(f\"mean_cschange: {mean_cs}\")"
   ]
  },
  {
   "cell_type": "code",
   "execution_count": null,
   "id": "c64a416c",
   "metadata": {},
   "outputs": [],
   "source": []
  }
 ],
 "metadata": {
  "kernelspec": {
   "display_name": "Python 3 (ipykernel)",
   "language": "python",
   "name": "python3"
  },
  "language_info": {
   "codemirror_mode": {
    "name": "ipython",
    "version": 3
   },
   "file_extension": ".py",
   "mimetype": "text/x-python",
   "name": "python",
   "nbconvert_exporter": "python",
   "pygments_lexer": "ipython3",
   "version": "3.9.12"
  }
 },
 "nbformat": 4,
 "nbformat_minor": 5
}
